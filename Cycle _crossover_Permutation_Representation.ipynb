{
 "cells": [
  {
   "cell_type": "markdown",
   "metadata": {},
   "source": [
    "## Cycle crossover\n",
    "Cycle Crossover The final operator that we will consider in this section is\n",
    "cycle crossover, which is concerned with preserving as much information\n",
    "as possible about the absolute position in which elements occur. \n",
    "\n",
    "Each element comes from one parent togather with its position."
   ]
  },
  {
   "cell_type": "code",
   "execution_count": 9,
   "metadata": {},
   "outputs": [],
   "source": [
    "\"\"\"\n",
    "Module Docstring:\n",
    "A description of your program goes here\n",
    "\"\"\"\n",
    "\n",
    "from copy import deepcopy\n",
    "import numpy as np\n",
    "\n",
    "class Chromosome():\n",
    "    \n",
    "    def __init__(self, genes, id_=None, fitness=-1):\n",
    "        self.id_ = id_\n",
    "        self.genes = genes\n",
    "       \n",
    "\n",
    "    def describe(self):\n",
    "     \n",
    "        \n",
    "        print(f\"ID = {self.id_}, \\nGenes= {self.genes}\")\n",
    "\n",
    "    def get_chrom_length(self):\n",
    "     \n",
    "        return len(self.genes)"
   ]
  },
  {
   "cell_type": "code",
   "execution_count": 10,
   "metadata": {},
   "outputs": [
    {
     "name": "stdout",
     "output_type": "stream",
     "text": [
      "\n",
      "Parents : \n",
      "= * = * = * = * = * = * = * =\n",
      "ID = 0, \n",
      "Genes= [1 2 3 4 5 6 7 8 9]\n",
      "ID = 1, \n",
      "Genes= [9 3 7 8 2 6 5 1 4]\n",
      "\n",
      "Children\n",
      "= * = * = * = * = * = * = * =\n",
      "ID = 0, \n",
      "Genes= [1 3 7 4 2 6 5 8 9]\n",
      "ID = 1, \n",
      "Genes= [9 2 3 8 5 6 7 1 4]\n"
     ]
    }
   ],
   "source": [
    "def cycle_crossover(pc):\n",
    "   \n",
    "    parent_one = Chromosome(genes=np.array([1,2,3,4,5,6,7,8,9]), id_=0)\n",
    "    parent_two = Chromosome(genes=np.array([9,3,7,8,2,6,5,1,4]), id_=1)\n",
    "    chrom_length = Chromosome.get_chrom_length(parent_one)\n",
    "    print(\"\\nParents : \")\n",
    "    print(\"= * = * = * = * = * = * = * =\")\n",
    "    Chromosome.describe(parent_one)\n",
    "    Chromosome.describe(parent_two)\n",
    "    child_one = Chromosome(genes=np.array([-1] * chrom_length), id_=0)\n",
    "    child_two = Chromosome(genes=np.array([-1] * chrom_length), id_=1)\n",
    "\n",
    "    if np.random.random() < pc:  # if pc is greater than random number\n",
    "        p1_copy = parent_one.genes.tolist()\n",
    "        p2_copy = parent_two.genes.tolist()\n",
    "        swap = True\n",
    "        count = 0\n",
    "        pos = 0\n",
    "\n",
    "        while True:\n",
    "            if count > chrom_length:\n",
    "                break\n",
    "            for i in range(chrom_length):\n",
    "                if child_one.genes[i] == -1:\n",
    "                    pos = i\n",
    "                    break\n",
    "\n",
    "            if swap:\n",
    "                while True:\n",
    "                    child_one.genes[pos] = parent_one.genes[pos]\n",
    "                    count += 1\n",
    "                    pos = parent_two.genes.tolist().index(parent_one.genes[pos])\n",
    "                    if p1_copy[pos] == -1:\n",
    "                        swap = False\n",
    "                        break\n",
    "                    p1_copy[pos] = -1\n",
    "            else:\n",
    "                while True:\n",
    "                    child_one.genes[pos] = parent_two.genes[pos]\n",
    "                    count += 1\n",
    "                    pos = parent_one.genes.tolist().index(parent_two.genes[pos])\n",
    "                    if p2_copy[pos] == -1:\n",
    "                        swap = True\n",
    "                        break\n",
    "                    p2_copy[pos] = -1\n",
    "\n",
    "        for i in range(chrom_length): #for the second child\n",
    "            if child_one.genes[i] == parent_one.genes[i]:\n",
    "                child_two.genes[i] = parent_two.genes[i]\n",
    "            else:\n",
    "                child_two.genes[i] = parent_one.genes[i]\n",
    "\n",
    "        for i in range(chrom_length): #Special mode\n",
    "            if child_one.genes[i] == -1:\n",
    "                if p1_copy[i] == -1: #it means that the ith gene from p1 has been already transfered\n",
    "                    child_one.genes[i] = parent_two.genes[i]\n",
    "                else:\n",
    "                    child_one.genes[i] = parent_one.genes[i]\n",
    "\n",
    "    else:  \n",
    "        child_one = deepcopy(parent_one)\n",
    "        child_two = deepcopy(parent_two)\n",
    "    return child_one, child_two\n",
    "\n",
    "if __name__ == '__main__':\n",
    "\n",
    "    CROSS = cycle_crossover(1)\n",
    "    print(\"\\nChildren\")\n",
    "    print(\"= * = * = * = * = * = * = * =\")\n",
    "    for index, _ in enumerate(CROSS):\n",
    "        Chromosome.describe(CROSS[index])"
   ]
  },
  {
   "cell_type": "code",
   "execution_count": null,
   "metadata": {},
   "outputs": [],
   "source": []
  },
  {
   "cell_type": "code",
   "execution_count": null,
   "metadata": {},
   "outputs": [],
   "source": []
  },
  {
   "cell_type": "code",
   "execution_count": null,
   "metadata": {},
   "outputs": [],
   "source": []
  }
 ],
 "metadata": {
  "kernelspec": {
   "display_name": "Python 3",
   "language": "python",
   "name": "python3"
  },
  "language_info": {
   "codemirror_mode": {
    "name": "ipython",
    "version": 3
   },
   "file_extension": ".py",
   "mimetype": "text/x-python",
   "name": "python",
   "nbconvert_exporter": "python",
   "pygments_lexer": "ipython3",
   "version": "3.7.1"
  }
 },
 "nbformat": 4,
 "nbformat_minor": 2
}
